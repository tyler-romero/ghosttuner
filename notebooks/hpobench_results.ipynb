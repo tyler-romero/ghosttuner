{
 "cells": [
  {
   "cell_type": "code",
   "execution_count": 1,
   "id": "82c08182-a238-41f9-84c2-d54f5649faf1",
   "metadata": {},
   "outputs": [],
   "source": [
    "import optuna\n",
    "from uuid import uuid1\n",
    "from functools import partial\n",
    "import ConfigSpace as CS\n",
    "from hpobench.util.openml_data_manager import get_openml100_taskids"
   ]
  },
  {
   "cell_type": "code",
   "execution_count": 2,
   "id": "e0913283-a7a9-4511-b331-801a28923e51",
   "metadata": {},
   "outputs": [],
   "source": [
    "def sample_config_from_optuna(trial, cs):\n",
    "    # https://github.com/automl/HPOBenchExperimentUtils/blob/9ed90230880970dd93bbc4ec51813ffd37e2654b/HPOBenchExperimentUtils/optimizer/optuna_optimizer.py\n",
    "    config = {}\n",
    "    for hp_name in cs:\n",
    "        hp = cs.get_hyperparameter(hp_name)\n",
    "        if isinstance(hp, CS.UniformFloatHyperparameter):\n",
    "            value = float(trial.suggest_float(name=hp_name, low=hp.lower, high=hp.upper, log=hp.log))\n",
    "        elif isinstance(hp, CS.UniformIntegerHyperparameter):\n",
    "            value = int(trial.suggest_int(name=hp_name, low=hp.lower, high=hp.upper, log=hp.log))\n",
    "        elif isinstance(hp, CS.CategoricalHyperparameter):\n",
    "            hp_type = type(hp.default_value)\n",
    "            value = hp_type(trial.suggest_categorical(name=hp_name, choices=hp.choices))\n",
    "        elif isinstance(hp, CS.OrdinalHyperparameter):\n",
    "            num_vars = len(hp.sequence)\n",
    "            index = trial.suggest_int(hp_name, low=0, high=num_vars - 1, log=False)\n",
    "            hp_type = type(hp.default_value)\n",
    "            value = hp.sequence[index]\n",
    "            value = hp_type(value)\n",
    "        else:\n",
    "            raise ValueError(f'Please implement the support for hps of type {type(hp)}')\n",
    "\n",
    "        config[hp.name] = value\n",
    "    return config"
   ]
  },
  {
   "cell_type": "code",
   "execution_count": 3,
   "id": "6c3922da-a56c-4590-87d0-6c2be71d4441",
   "metadata": {
    "jupyter": {
     "source_hidden": true
    }
   },
   "outputs": [],
   "source": [
    "def get_budget_and_fidelity_type(main_fidelity):\n",
    "    if isinstance(main_fidelity, CS.OrdinalHyperparameter):\n",
    "        print(\"A\")\n",
    "        order = main_fidelity.get_seq_order()\n",
    "        min_budget = main_fidelity.get_value(order.min())\n",
    "        max_budget = main_fidelity.get_value(order.max())\n",
    "    else:\n",
    "        print(\"B\")\n",
    "        min_budget = main_fidelity.lower\n",
    "        max_budget = main_fidelity.upper\n",
    "\n",
    "    if isinstance(main_fidelity, CS.UniformIntegerHyperparameter):\n",
    "        # TODO: We need to fix this through never setting an int budget to 0\n",
    "        min_budget = max(min_budget, 1)\n",
    "        max_budget = max(max_budget, 1)\n",
    "    else:\n",
    "        print(min_budget)\n",
    "        min_budget = max(min_budget, 0.01)\n",
    "        max_budget = max(max_budget, 0.01)\n",
    "\n",
    "    if isinstance(main_fidelity, CS.hyperparameters.FloatHyperparameter):\n",
    "        main_fidelity_type = float\n",
    "    elif isinstance(main_fidelity, CS.hyperparameters.IntegerHyperparameter):\n",
    "        main_fidelity_type = int\n",
    "    elif isinstance(main_fidelity, CS.CategoricalHyperparameter):\n",
    "        main_fidelity_type = type(main_fidelity.default_value)\n",
    "    else:\n",
    "        main_fidelity_type = type(main_fidelity.default_value)\n",
    "    return main_fidelity_type, min_budget, max_budget"
   ]
  },
  {
   "cell_type": "code",
   "execution_count": 4,
   "id": "5ad3971a-311d-4550-9d5d-18326ec17e7f",
   "metadata": {},
   "outputs": [],
   "source": [
    "def objective_fn(trial, benchmark, main_fidelity_name, main_fidelity_type, max_budget, configspace):\n",
    "    configuration = sample_config_from_optuna(trial, configspace)\n",
    "    result_dict = benchmark.objective_function(\n",
    "        configuration, {main_fidelity_name: main_fidelity_type(max_budget)}\n",
    "    )\n",
    "    trial.report(result_dict['function_value'], step=max_budget)\n",
    "    return result_dict['function_value']"
   ]
  },
  {
   "cell_type": "code",
   "execution_count": 5,
   "id": "f07d6252-a07d-4532-8542-dfb50e0ff6cf",
   "metadata": {},
   "outputs": [],
   "source": [
    "def run_benchmark(sampler, benchmark, main_fidelity, n_trials=20):\n",
    "    study = optuna.create_study(direction='minimize', sampler=sampler)\n",
    "\n",
    "    cs = benchmark.get_configuration_space()\n",
    "    main_fidelity_type, min_budget, max_budget = get_budget_and_fidelity_type(main_fidelity)\n",
    "\n",
    "    # noinspection PyTypeChecker\n",
    "    study.optimize(func=partial(objective_fn,\n",
    "                                benchmark=benchmark,\n",
    "                                main_fidelity_name=main_fidelity.name,\n",
    "                                main_fidelity_type=main_fidelity_type,\n",
    "                                max_budget=max_budget,\n",
    "                                configspace=cs),\n",
    "                   timeout=None, n_trials=n_trials)  # Run the optimization without a limitation\n",
    "    return study"
   ]
  },
  {
   "cell_type": "code",
   "execution_count": 16,
   "id": "d1325e7d-58a5-463e-9550-3debf7e70802",
   "metadata": {},
   "outputs": [],
   "source": [
    "from ghosttuner.samplers.llm_sampler import GhosttunerSampler\n",
    "from optuna.samplers import RandomSampler, TPESampler, CmaEsSampler\n",
    "from hpobench.benchmarks.ml.nn_benchmark import NNBenchmark\n",
    "\n",
    "openml100_task_ids = get_openml100_taskids()\n",
    "benchmark = NNBenchmark(openml100_task_ids[0])"
   ]
  },
  {
   "cell_type": "code",
   "execution_count": 17,
   "id": "e7f25381-1479-4309-8665-625562e5363f",
   "metadata": {},
   "outputs": [
    {
     "data": {
      "text/plain": [
       "<hpobench.benchmarks.ml.nn_benchmark.NNBenchmark at 0x7f83145f4130>"
      ]
     },
     "execution_count": 17,
     "metadata": {},
     "output_type": "execute_result"
    }
   ],
   "source": [
    "benchmark"
   ]
  },
  {
   "cell_type": "code",
   "execution_count": 18,
   "id": "033b03ed-e0da-428a-8734-f7519c4ccaa0",
   "metadata": {},
   "outputs": [
    {
     "data": {
      "text/plain": [
       "1163    5\n",
       "5184    5\n",
       "1872    8\n",
       "4628    9\n",
       "4859    7\n",
       "       ..\n",
       "417     1\n",
       "2783    6\n",
       "1701    3\n",
       "1162    6\n",
       "4140    7\n",
       "Name: class, Length: 2523, dtype: category\n",
       "Categories (10, object): ['0' < '1' < '2' < '3' ... '6' < '7' < '8' < '9']"
      ]
     },
     "execution_count": 18,
     "metadata": {},
     "output_type": "execute_result"
    }
   ],
   "source": [
    "benchmark.train_y"
   ]
  },
  {
   "cell_type": "code",
   "execution_count": 19,
   "id": "cde6df6b-14ad-47d2-a706-820c9b07ae05",
   "metadata": {},
   "outputs": [
    {
     "name": "stdout",
     "output_type": "stream",
     "text": [
      "alpha, Type: UniformFloat, Range: [1e-08, 1.0], Default: 0.001, on log-scale\n",
      "batch_size, Type: UniformInteger, Range: [4, 256], Default: 32, on log-scale\n",
      "depth, Type: UniformInteger, Range: [1, 3], Default: 3\n",
      "learning_rate_init, Type: UniformFloat, Range: [1e-05, 1.0], Default: 0.001, on log-scale\n",
      "width, Type: UniformInteger, Range: [16, 1024], Default: 64, on log-scale\n"
     ]
    },
    {
     "name": "stderr",
     "output_type": "stream",
     "text": [
      "/tmp/ipykernel_270325/2281861310.py:1: DeprecationWarning: Prefer using `list(space.values())` over `get_hyperparameters`\n",
      "  search_space = \"\\n\".join([str(hp) for hp in benchmark.get_configuration_space().get_hyperparameters()])\n"
     ]
    }
   ],
   "source": [
    "search_space = \"\\n\".join([str(hp) for hp in benchmark.get_configuration_space().get_hyperparameters()])\n",
    "print(search_space)"
   ]
  },
  {
   "cell_type": "code",
   "execution_count": 20,
   "id": "f330b683-7dc8-4e87-ab41-a4fd505df6a7",
   "metadata": {},
   "outputs": [
    {
     "name": "stderr",
     "output_type": "stream",
     "text": [
      "/tmp/ipykernel_270325/3537652.py:1: DeprecationWarning: Prefer using `list(space.values())` over `get_hyperparameters`\n",
      "  main_fidelity = benchmark.get_fidelity_space().get_hyperparameters()[0]\n"
     ]
    },
    {
     "data": {
      "text/plain": [
       "iter, Type: UniformInteger, Range: [3, 243], Default: 243"
      ]
     },
     "execution_count": 20,
     "metadata": {},
     "output_type": "execute_result"
    }
   ],
   "source": [
    "main_fidelity = benchmark.get_fidelity_space().get_hyperparameters()[0]\n",
    "main_fidelity"
   ]
  },
  {
   "cell_type": "code",
   "execution_count": 21,
   "id": "149e112f-97b1-42c1-9386-ada26e0611dc",
   "metadata": {
    "scrolled": true
   },
   "outputs": [],
   "source": [
    "budget = 10\n",
    "gt = GhosttunerSampler(model_type=\"sklearn MLPClassifier\", search_space=search_space, use_cot=False, budget=budget)\n",
    "random = RandomSampler()\n",
    "tpe = TPESampler()\n",
    "cmaes = CmaEsSampler()"
   ]
  },
  {
   "cell_type": "code",
   "execution_count": 22,
   "id": "e8b32c4d-e388-4a7a-b435-7ae5e52ba0fb",
   "metadata": {},
   "outputs": [
    {
     "name": "stderr",
     "output_type": "stream",
     "text": [
      "[I 2023-12-13 21:39:31,530] A new study created in memory with name: no-name-e67896ef-e7d7-491a-8df9-e773e7a3b115\n",
      "/tmp/ipykernel_270325/3060598696.py:5: DeprecationWarning: Prefer `space[name]` over `get_hyperparameter`\n",
      "  hp = cs.get_hyperparameter(hp_name)\n"
     ]
    },
    {
     "name": "stdout",
     "output_type": "stream",
     "text": [
      "B\n"
     ]
    },
    {
     "name": "stderr",
     "output_type": "stream",
     "text": [
      "[I 2023-12-13 21:39:31,985] Trial 0 finished with value: 0.01045856798069189 and parameters: {'alpha': 6.111193287085821e-08, 'batch_size': 91, 'depth': 1, 'learning_rate_init': 0.013428642651629503, 'width': 47}. Best is trial 0 with value: 0.01045856798069189.\n",
      "/tmp/ipykernel_270325/3060598696.py:5: DeprecationWarning: Prefer `space[name]` over `get_hyperparameter`\n",
      "  hp = cs.get_hyperparameter(hp_name)\n",
      "[I 2023-12-13 21:39:34,688] Trial 1 finished with value: 0.018503620273531807 and parameters: {'alpha': 7.640383656401834e-07, 'batch_size': 19, 'depth': 1, 'learning_rate_init': 0.0372549751830248, 'width': 16}. Best is trial 0 with value: 0.01045856798069189.\n",
      "/tmp/ipykernel_270325/3060598696.py:5: DeprecationWarning: Prefer `space[name]` over `get_hyperparameter`\n",
      "  hp = cs.get_hyperparameter(hp_name)\n",
      "[I 2023-12-13 21:39:37,405] Trial 2 finished with value: 0.05953338696701527 and parameters: {'alpha': 3.6700939974789526e-08, 'batch_size': 10, 'depth': 2, 'learning_rate_init': 0.017773840781388626, 'width': 99}. Best is trial 0 with value: 0.01045856798069189.\n",
      "/tmp/ipykernel_270325/3060598696.py:5: DeprecationWarning: Prefer `space[name]` over `get_hyperparameter`\n",
      "  hp = cs.get_hyperparameter(hp_name)\n",
      "[I 2023-12-13 22:02:39,036] Trial 3 finished with value: 0.023330651649235756 and parameters: {'alpha': 0.04668873292764885, 'batch_size': 6, 'depth': 3, 'learning_rate_init': 0.005477154900953293, 'width': 871}. Best is trial 0 with value: 0.01045856798069189.\n",
      "/tmp/ipykernel_270325/3060598696.py:5: DeprecationWarning: Prefer `space[name]` over `get_hyperparameter`\n",
      "  hp = cs.get_hyperparameter(hp_name)\n",
      "[I 2023-12-13 22:02:41,270] Trial 4 finished with value: 0.8962188254223653 and parameters: {'alpha': 6.563085538596844e-05, 'batch_size': 82, 'depth': 3, 'learning_rate_init': 0.752962892141047, 'width': 199}. Best is trial 0 with value: 0.01045856798069189.\n",
      "/tmp/ipykernel_270325/3060598696.py:5: DeprecationWarning: Prefer `space[name]` over `get_hyperparameter`\n",
      "  hp = cs.get_hyperparameter(hp_name)\n",
      "/home/tromero/anaconda3/envs/ghost/lib/python3.8/site-packages/sklearn/neural_network/_multilayer_perceptron.py:691: ConvergenceWarning: Stochastic Optimizer: Maximum iterations (243) reached and the optimization hasn't converged yet.\n",
      "  warnings.warn(\n",
      "[I 2023-12-13 22:03:00,127] Trial 5 finished with value: 0.02976669348350769 and parameters: {'alpha': 0.2459868844047175, 'batch_size': 11, 'depth': 1, 'learning_rate_init': 2.6851429130463428e-05, 'width': 68}. Best is trial 0 with value: 0.01045856798069189.\n",
      "/tmp/ipykernel_270325/3060598696.py:5: DeprecationWarning: Prefer `space[name]` over `get_hyperparameter`\n",
      "  hp = cs.get_hyperparameter(hp_name)\n",
      "[I 2023-12-13 22:03:01,638] Trial 6 finished with value: 0.8962188254223653 and parameters: {'alpha': 5.963241868626335e-05, 'batch_size': 9, 'depth': 2, 'learning_rate_init': 0.8715341677017138, 'width': 35}. Best is trial 0 with value: 0.01045856798069189.\n",
      "/tmp/ipykernel_270325/3060598696.py:5: DeprecationWarning: Prefer `space[name]` over `get_hyperparameter`\n",
      "  hp = cs.get_hyperparameter(hp_name)\n",
      "[I 2023-12-13 22:03:33,340] Trial 7 finished with value: 0.008849557522123908 and parameters: {'alpha': 0.0022520027895136688, 'batch_size': 70, 'depth': 3, 'learning_rate_init': 1.255753922515193e-05, 'width': 199}. Best is trial 7 with value: 0.008849557522123908.\n",
      "/tmp/ipykernel_270325/3060598696.py:5: DeprecationWarning: Prefer `space[name]` over `get_hyperparameter`\n",
      "  hp = cs.get_hyperparameter(hp_name)\n",
      "/home/tromero/anaconda3/envs/ghost/lib/python3.8/site-packages/sklearn/neural_network/_multilayer_perceptron.py:691: ConvergenceWarning: Stochastic Optimizer: Maximum iterations (243) reached and the optimization hasn't converged yet.\n",
      "  warnings.warn(\n",
      "[I 2023-12-13 22:03:40,757] Trial 8 finished with value: 0.018503620273531807 and parameters: {'alpha': 0.016183343292458213, 'batch_size': 247, 'depth': 2, 'learning_rate_init': 3.820759815376077e-05, 'width': 121}. Best is trial 7 with value: 0.008849557522123908.\n",
      "/tmp/ipykernel_270325/3060598696.py:5: DeprecationWarning: Prefer `space[name]` over `get_hyperparameter`\n",
      "  hp = cs.get_hyperparameter(hp_name)\n",
      "[I 2023-12-13 22:03:42,997] Trial 9 finished with value: 0.021721641190667773 and parameters: {'alpha': 2.0883059428450133e-05, 'batch_size': 27, 'depth': 3, 'learning_rate_init': 0.021423199672510676, 'width': 46}. Best is trial 7 with value: 0.008849557522123908.\n"
     ]
    }
   ],
   "source": [
    "study_rand = run_benchmark(random, benchmark, main_fidelity=main_fidelity, n_trials=budget)"
   ]
  },
  {
   "cell_type": "code",
   "execution_count": 23,
   "id": "276e4188",
   "metadata": {},
   "outputs": [
    {
     "name": "stderr",
     "output_type": "stream",
     "text": [
      "[I 2023-12-13 22:03:43,019] A new study created in memory with name: no-name-9c467122-250f-4910-b969-a4bb60e44226\n",
      "/tmp/ipykernel_270325/3060598696.py:5: DeprecationWarning: Prefer `space[name]` over `get_hyperparameter`\n",
      "  hp = cs.get_hyperparameter(hp_name)\n"
     ]
    },
    {
     "name": "stdout",
     "output_type": "stream",
     "text": [
      "B\n",
      "ChatCompletion(id='chatcmpl-8VZ6t7Vk8C0lxRLf14nPoKmcsGvR3', choices=[Choice(finish_reason='stop', index=0, message=ChatCompletionMessage(content='{\"alpha\": 0.0001, \"batch_size\": 64, \"depth\": 2, \"learning_rate_init\": 0.01, \"width\": 128}', role='assistant', function_call=None, tool_calls=None))], created=1702533823, model='gpt-4-1106-preview', object='chat.completion', system_fingerprint='fp_6aca3b5ce1', usage=CompletionUsage(completion_tokens=38, prompt_tokens=282, total_tokens=320))\n"
     ]
    },
    {
     "name": "stderr",
     "output_type": "stream",
     "text": [
      "[I 2023-12-13 22:03:49,831] Trial 0 finished with value: 0.007240547063555924 and parameters: {'alpha': 0.0001, 'batch_size': 64, 'depth': 2, 'learning_rate_init': 0.01, 'width': 128}. Best is trial 0 with value: 0.007240547063555924.\n",
      "/tmp/ipykernel_270325/3060598696.py:5: DeprecationWarning: Prefer `space[name]` over `get_hyperparameter`\n",
      "  hp = cs.get_hyperparameter(hp_name)\n"
     ]
    },
    {
     "name": "stdout",
     "output_type": "stream",
     "text": [
      "ChatCompletion(id='chatcmpl-8VZ708HQyB08H8BsM6j6PQJjw2uu4', choices=[Choice(finish_reason='stop', index=0, message=ChatCompletionMessage(content='{\"alpha\": 0.00001, \"batch_size\": 128, \"depth\": 3, \"learning_rate_init\": 0.001, \"width\": 256}', role='assistant', function_call=None, tool_calls=None))], created=1702533830, model='gpt-4-1106-preview', object='chat.completion', system_fingerprint='fp_6aca3b5ce1', usage=CompletionUsage(completion_tokens=38, prompt_tokens=355, total_tokens=393))\n"
     ]
    },
    {
     "name": "stderr",
     "output_type": "stream",
     "text": [
      "[I 2023-12-13 22:03:57,054] Trial 1 finished with value: 0.008849557522123908 and parameters: {'alpha': 1e-05, 'batch_size': 128, 'depth': 3, 'learning_rate_init': 0.001, 'width': 256}. Best is trial 0 with value: 0.007240547063555924.\n",
      "/tmp/ipykernel_270325/3060598696.py:5: DeprecationWarning: Prefer `space[name]` over `get_hyperparameter`\n",
      "  hp = cs.get_hyperparameter(hp_name)\n"
     ]
    },
    {
     "name": "stdout",
     "output_type": "stream",
     "text": [
      "ChatCompletion(id='chatcmpl-8VZ77XovLvGqzkTdY7UVo9UG3gQkn', choices=[Choice(finish_reason='stop', index=0, message=ChatCompletionMessage(content='{\"alpha\": 1e-05, \"batch_size\": 32, \"depth\": 1, \"learning_rate_init\": 0.1, \"width\": 512}', role='assistant', function_call=None, tool_calls=None))], created=1702533837, model='gpt-4-1106-preview', object='chat.completion', system_fingerprint='fp_6aca3b5ce1', usage=CompletionUsage(completion_tokens=38, prompt_tokens=428, total_tokens=466))\n"
     ]
    },
    {
     "name": "stderr",
     "output_type": "stream",
     "text": [
      "[I 2023-12-13 22:04:06,532] Trial 2 finished with value: 0.012067578439259874 and parameters: {'alpha': 1e-05, 'batch_size': 32, 'depth': 1, 'learning_rate_init': 0.1, 'width': 512}. Best is trial 0 with value: 0.007240547063555924.\n",
      "/tmp/ipykernel_270325/3060598696.py:5: DeprecationWarning: Prefer `space[name]` over `get_hyperparameter`\n",
      "  hp = cs.get_hyperparameter(hp_name)\n"
     ]
    },
    {
     "name": "stdout",
     "output_type": "stream",
     "text": [
      "ChatCompletion(id='chatcmpl-8VZ7G65twIvhYYtNwluiOViMdwRdg', choices=[Choice(finish_reason='stop', index=0, message=ChatCompletionMessage(content='{\"alpha\": 0.01, \"batch_size\": 16, \"depth\": 2, \"learning_rate_init\": 0.0001, \"width\": 64}', role='assistant', function_call=None, tool_calls=None))], created=1702533846, model='gpt-4-1106-preview', object='chat.completion', system_fingerprint='fp_6aca3b5ce1', usage=CompletionUsage(completion_tokens=38, prompt_tokens=501, total_tokens=539))\n"
     ]
    },
    {
     "name": "stderr",
     "output_type": "stream",
     "text": [
      "[I 2023-12-13 22:04:17,662] Trial 3 finished with value: 0.007240547063555924 and parameters: {'alpha': 0.01, 'batch_size': 16, 'depth': 2, 'learning_rate_init': 0.0001, 'width': 64}. Best is trial 0 with value: 0.007240547063555924.\n",
      "/tmp/ipykernel_270325/3060598696.py:5: DeprecationWarning: Prefer `space[name]` over `get_hyperparameter`\n",
      "  hp = cs.get_hyperparameter(hp_name)\n"
     ]
    },
    {
     "name": "stdout",
     "output_type": "stream",
     "text": [
      "ChatCompletion(id='chatcmpl-8VZ7Rp1YWcgGknGZPgK481PGwfTW8', choices=[Choice(finish_reason='stop', index=0, message=ChatCompletionMessage(content='{\"alpha\": 0.1, \"batch_size\": 256, \"depth\": 3, \"learning_rate_init\": 0.01, \"width\": 1024}', role='assistant', function_call=None, tool_calls=None))], created=1702533857, model='gpt-4-1106-preview', object='chat.completion', system_fingerprint='fp_6aca3b5ce1', usage=CompletionUsage(completion_tokens=38, prompt_tokens=574, total_tokens=612))\n"
     ]
    },
    {
     "name": "stderr",
     "output_type": "stream",
     "text": [
      "[I 2023-12-13 22:05:00,551] Trial 4 finished with value: 0.0096540627514079 and parameters: {'alpha': 0.1, 'batch_size': 256, 'depth': 3, 'learning_rate_init': 0.01, 'width': 1024}. Best is trial 0 with value: 0.007240547063555924.\n",
      "/tmp/ipykernel_270325/3060598696.py:5: DeprecationWarning: Prefer `space[name]` over `get_hyperparameter`\n",
      "  hp = cs.get_hyperparameter(hp_name)\n"
     ]
    },
    {
     "name": "stdout",
     "output_type": "stream",
     "text": [
      "ChatCompletion(id='chatcmpl-8VZ88LCTG6DvjL5xKViaibh8omt95', choices=[Choice(finish_reason='stop', index=0, message=ChatCompletionMessage(content='{\"alpha\": 0.001, \"batch_size\": 4, \"depth\": 1, \"learning_rate_init\": 0.1, \"width\": 256}', role='assistant', function_call=None, tool_calls=None))], created=1702533900, model='gpt-4-1106-preview', object='chat.completion', system_fingerprint='fp_6aca3b5ce1', usage=CompletionUsage(completion_tokens=37, prompt_tokens=647, total_tokens=684))\n"
     ]
    },
    {
     "name": "stderr",
     "output_type": "stream",
     "text": [
      "[I 2023-12-13 22:05:10,167] Trial 5 finished with value: 0.026548672566371723 and parameters: {'alpha': 0.001, 'batch_size': 4, 'depth': 1, 'learning_rate_init': 0.1, 'width': 256}. Best is trial 0 with value: 0.007240547063555924.\n",
      "/tmp/ipykernel_270325/3060598696.py:5: DeprecationWarning: Prefer `space[name]` over `get_hyperparameter`\n",
      "  hp = cs.get_hyperparameter(hp_name)\n"
     ]
    },
    {
     "name": "stdout",
     "output_type": "stream",
     "text": [
      "ChatCompletion(id='chatcmpl-8VZ8IB1tTJvsBl3gdU9UDPfQf8C64', choices=[Choice(finish_reason='stop', index=0, message=ChatCompletionMessage(content='{\"alpha\": 0.0005, \"batch_size\": 128, \"depth\": 2, \"learning_rate_init\": 0.005, \"width\": 512}', role='assistant', function_call=None, tool_calls=None))], created=1702533910, model='gpt-4-1106-preview', object='chat.completion', system_fingerprint='fp_6aca3b5ce1', usage=CompletionUsage(completion_tokens=38, prompt_tokens=719, total_tokens=757))\n"
     ]
    },
    {
     "name": "stderr",
     "output_type": "stream",
     "text": [
      "[I 2023-12-13 22:05:20,410] Trial 6 finished with value: 0.008849557522123908 and parameters: {'alpha': 0.0005, 'batch_size': 128, 'depth': 2, 'learning_rate_init': 0.005, 'width': 512}. Best is trial 0 with value: 0.007240547063555924.\n",
      "/tmp/ipykernel_270325/3060598696.py:5: DeprecationWarning: Prefer `space[name]` over `get_hyperparameter`\n",
      "  hp = cs.get_hyperparameter(hp_name)\n"
     ]
    },
    {
     "name": "stdout",
     "output_type": "stream",
     "text": [
      "ChatCompletion(id='chatcmpl-8VZ8Sz5ONyjoYES1X7pN9MaGMJTiB', choices=[Choice(finish_reason='stop', index=0, message=ChatCompletionMessage(content='{\"alpha\": 0.05, \"batch_size\": 64, \"depth\": 3, \"learning_rate_init\": 0.0005, \"width\": 128}', role='assistant', function_call=None, tool_calls=None))], created=1702533920, model='gpt-4-1106-preview', object='chat.completion', system_fingerprint='fp_6aca3b5ce1', usage=CompletionUsage(completion_tokens=38, prompt_tokens=792, total_tokens=830))\n"
     ]
    },
    {
     "name": "stderr",
     "output_type": "stream",
     "text": [
      "[I 2023-12-13 22:05:36,216] Trial 7 finished with value: 0.0032180209171359664 and parameters: {'alpha': 0.05, 'batch_size': 64, 'depth': 3, 'learning_rate_init': 0.0005, 'width': 128}. Best is trial 7 with value: 0.0032180209171359664.\n",
      "/tmp/ipykernel_270325/3060598696.py:5: DeprecationWarning: Prefer `space[name]` over `get_hyperparameter`\n",
      "  hp = cs.get_hyperparameter(hp_name)\n"
     ]
    },
    {
     "name": "stdout",
     "output_type": "stream",
     "text": [
      "ChatCompletion(id='chatcmpl-8VZ8iggaH9DJAq0A9PKfs90Zb35I0', choices=[Choice(finish_reason='stop', index=0, message=ChatCompletionMessage(content='{\"alpha\": 0.01, \"batch_size\": 32, \"depth\": 3, \"learning_rate_init\": 0.0001, \"width\": 256}', role='assistant', function_call=None, tool_calls=None))], created=1702533936, model='gpt-4-1106-preview', object='chat.completion', system_fingerprint='fp_b77c6a5c40', usage=CompletionUsage(completion_tokens=38, prompt_tokens=865, total_tokens=903))\n"
     ]
    },
    {
     "name": "stderr",
     "output_type": "stream",
     "text": [
      "[I 2023-12-13 22:06:28,812] Trial 8 finished with value: 0.006436041834271933 and parameters: {'alpha': 0.01, 'batch_size': 32, 'depth': 3, 'learning_rate_init': 0.0001, 'width': 256}. Best is trial 7 with value: 0.0032180209171359664.\n",
      "/tmp/ipykernel_270325/3060598696.py:5: DeprecationWarning: Prefer `space[name]` over `get_hyperparameter`\n",
      "  hp = cs.get_hyperparameter(hp_name)\n"
     ]
    },
    {
     "name": "stdout",
     "output_type": "stream",
     "text": [
      "ChatCompletion(id='chatcmpl-8VZ9ZJ7dEC9wXiQqFt56RZIaFHXaK', choices=[Choice(finish_reason='stop', index=0, message=ChatCompletionMessage(content='{\"alpha\": 0.005, \"batch_size\": 100, \"depth\": 2, \"learning_rate_init\": 0.0002, \"width\": 200}', role='assistant', function_call=None, tool_calls=None))], created=1702533989, model='gpt-4-1106-preview', object='chat.completion', system_fingerprint='fp_6aca3b5ce1', usage=CompletionUsage(completion_tokens=38, prompt_tokens=938, total_tokens=976))\n"
     ]
    },
    {
     "name": "stderr",
     "output_type": "stream",
     "text": [
      "[I 2023-12-13 22:06:37,488] Trial 9 finished with value: 0.00482703137570395 and parameters: {'alpha': 0.005, 'batch_size': 100, 'depth': 2, 'learning_rate_init': 0.0002, 'width': 200}. Best is trial 7 with value: 0.0032180209171359664.\n"
     ]
    }
   ],
   "source": [
    "study_gt = run_benchmark(gt, benchmark, main_fidelity=main_fidelity, n_trials=budget)"
   ]
  },
  {
   "cell_type": "code",
   "execution_count": 24,
   "id": "23c3c41c",
   "metadata": {},
   "outputs": [
    {
     "name": "stderr",
     "output_type": "stream",
     "text": [
      "[I 2023-12-13 22:06:37,495] A new study created in memory with name: no-name-e3bfa8ad-e40f-4e0f-9070-d3d5a4591cf6\n",
      "/tmp/ipykernel_270325/3060598696.py:5: DeprecationWarning: Prefer `space[name]` over `get_hyperparameter`\n",
      "  hp = cs.get_hyperparameter(hp_name)\n"
     ]
    },
    {
     "name": "stdout",
     "output_type": "stream",
     "text": [
      "B\n"
     ]
    },
    {
     "name": "stderr",
     "output_type": "stream",
     "text": [
      "[I 2023-12-13 22:06:51,490] Trial 0 finished with value: 0.017699115044247815 and parameters: {'alpha': 0.2561379837724636, 'batch_size': 30, 'depth': 2, 'learning_rate_init': 0.0005458816192988445, 'width': 101}. Best is trial 0 with value: 0.017699115044247815.\n",
      "/tmp/ipykernel_270325/3060598696.py:5: DeprecationWarning: Prefer `space[name]` over `get_hyperparameter`\n",
      "  hp = cs.get_hyperparameter(hp_name)\n",
      "[I 2023-12-13 22:07:17,153] Trial 1 finished with value: 0.006436041834271933 and parameters: {'alpha': 0.013191789618678817, 'batch_size': 32, 'depth': 3, 'learning_rate_init': 7.03358086635186e-05, 'width': 110}. Best is trial 1 with value: 0.006436041834271933.\n",
      "/tmp/ipykernel_270325/3060598696.py:5: DeprecationWarning: Prefer `space[name]` over `get_hyperparameter`\n",
      "  hp = cs.get_hyperparameter(hp_name)\n",
      "[I 2023-12-13 22:07:27,216] Trial 2 finished with value: 0.01045856798069189 and parameters: {'alpha': 0.02965304508046866, 'batch_size': 26, 'depth': 3, 'learning_rate_init': 0.00020443193451809643, 'width': 31}. Best is trial 1 with value: 0.006436041834271933.\n",
      "/tmp/ipykernel_270325/3060598696.py:5: DeprecationWarning: Prefer `space[name]` over `get_hyperparameter`\n",
      "  hp = cs.get_hyperparameter(hp_name)\n",
      "[I 2023-12-13 22:09:19,290] Trial 3 finished with value: 0.004022526146419958 and parameters: {'alpha': 6.676946568966892e-07, 'batch_size': 19, 'depth': 2, 'learning_rate_init': 0.0001768471158567806, 'width': 1003}. Best is trial 3 with value: 0.004022526146419958.\n",
      "/tmp/ipykernel_270325/3060598696.py:5: DeprecationWarning: Prefer `space[name]` over `get_hyperparameter`\n",
      "  hp = cs.get_hyperparameter(hp_name)\n",
      "[I 2023-12-13 22:09:47,056] Trial 4 finished with value: 0.008045052292839916 and parameters: {'alpha': 4.899260571057693e-07, 'batch_size': 86, 'depth': 2, 'learning_rate_init': 0.00886470962088545, 'width': 879}. Best is trial 3 with value: 0.004022526146419958.\n",
      "/tmp/ipykernel_270325/3060598696.py:5: DeprecationWarning: Prefer `space[name]` over `get_hyperparameter`\n",
      "  hp = cs.get_hyperparameter(hp_name)\n",
      "[I 2023-12-13 22:10:34,672] Trial 5 finished with value: 0.755430410297667 and parameters: {'alpha': 0.062256196956863324, 'batch_size': 89, 'depth': 3, 'learning_rate_init': 0.06643476952408311, 'width': 624}. Best is trial 3 with value: 0.004022526146419958.\n",
      "/tmp/ipykernel_270325/3060598696.py:5: DeprecationWarning: Prefer `space[name]` over `get_hyperparameter`\n",
      "  hp = cs.get_hyperparameter(hp_name)\n",
      "[I 2023-12-13 22:10:36,175] Trial 6 finished with value: 0.021721641190667773 and parameters: {'alpha': 0.01596738798929137, 'batch_size': 32, 'depth': 1, 'learning_rate_init': 0.03421851323494806, 'width': 144}. Best is trial 3 with value: 0.004022526146419958.\n",
      "/tmp/ipykernel_270325/3060598696.py:5: DeprecationWarning: Prefer `space[name]` over `get_hyperparameter`\n",
      "  hp = cs.get_hyperparameter(hp_name)\n",
      "[I 2023-12-13 22:10:36,637] Trial 7 finished with value: 0.0193081255028158 and parameters: {'alpha': 1.0380196487434313e-06, 'batch_size': 234, 'depth': 1, 'learning_rate_init': 0.5460765381884549, 'width': 27}. Best is trial 3 with value: 0.004022526146419958.\n",
      "/tmp/ipykernel_270325/3060598696.py:5: DeprecationWarning: Prefer `space[name]` over `get_hyperparameter`\n",
      "  hp = cs.get_hyperparameter(hp_name)\n",
      "/home/tromero/anaconda3/envs/ghost/lib/python3.8/site-packages/sklearn/neural_network/_multilayer_perceptron.py:691: ConvergenceWarning: Stochastic Optimizer: Maximum iterations (243) reached and the optimization hasn't converged yet.\n",
      "  warnings.warn(\n",
      "[I 2023-12-13 22:10:41,153] Trial 8 finished with value: 0.016090104585679832 and parameters: {'alpha': 6.136011618703342e-07, 'batch_size': 52, 'depth': 1, 'learning_rate_init': 4.5252542592108945e-05, 'width': 42}. Best is trial 3 with value: 0.004022526146419958.\n",
      "/tmp/ipykernel_270325/3060598696.py:5: DeprecationWarning: Prefer `space[name]` over `get_hyperparameter`\n",
      "  hp = cs.get_hyperparameter(hp_name)\n",
      "[I 2023-12-13 22:10:44,106] Trial 9 finished with value: 0.006436041834271933 and parameters: {'alpha': 0.02526475246546637, 'batch_size': 67, 'depth': 1, 'learning_rate_init': 0.00037095916543378144, 'width': 88}. Best is trial 3 with value: 0.004022526146419958.\n"
     ]
    }
   ],
   "source": [
    "study_tpe = run_benchmark(tpe, benchmark, main_fidelity=main_fidelity, n_trials=budget)"
   ]
  },
  {
   "cell_type": "code",
   "execution_count": null,
   "id": "34d0cbd3-4b9a-4ae7-b19b-107600a63343",
   "metadata": {},
   "outputs": [],
   "source": []
  }
 ],
 "metadata": {
  "kernelspec": {
   "display_name": "Python 3 (ipykernel)",
   "language": "python",
   "name": "python3"
  },
  "language_info": {
   "codemirror_mode": {
    "name": "ipython",
    "version": 3
   },
   "file_extension": ".py",
   "mimetype": "text/x-python",
   "name": "python",
   "nbconvert_exporter": "python",
   "pygments_lexer": "ipython3",
   "version": "3.8.18"
  }
 },
 "nbformat": 4,
 "nbformat_minor": 5
}
